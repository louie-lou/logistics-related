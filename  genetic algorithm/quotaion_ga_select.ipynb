{
 "cells": [
  {
   "cell_type": "code",
   "execution_count": 7,
   "id": "a50293b2-0216-4a98-8a4e-4b56f24072ed",
   "metadata": {},
   "outputs": [
    {
     "data": {
      "text/plain": [
       "<bound method Random.shuffle of <random.Random object at 0x0000027A5027C580>>"
      ]
     },
     "execution_count": 7,
     "metadata": {},
     "output_type": "execute_result"
    }
   ],
   "source": [
    "import random\n",
    "import operator\n",
    "\n",
    "city_num = []\n",
    "random.shuffle"
   ]
  },
  {
   "cell_type": "code",
   "execution_count": 8,
   "id": "ad4d206c-0cd6-4580-98b0-e242b0daf09f",
   "metadata": {},
   "outputs": [],
   "source": [
    "def select(chromosome_list,fitness_ratio_add):\n",
    "    rand_list = [random.uniform(0, 1) for _ in chromosome_list]     # 生成和种群规模相等的随机值列表，用于轮盘赌选择个体\n",
    "    rand_list.sort()\n",
    "    fit_index =0\n",
    "    new_index = 0\n",
    "    new_pop = chromosome_list.copy()\n",
    "    while new_index < len(chromosome_list):\n",
    "        if rand_list[new_index] < fitness_ratio_add[fit_index]:\n",
    "            new_pop[new_index] = chromosome_list[fit_index]\n",
    "            new_index = new_index +1\n",
    "        else:\n",
    "            fit_index = fit_index+1\n",
    "    return new_pop"
   ]
  },
  {
   "cell_type": "code",
   "execution_count": 9,
   "id": "20d6dc54-02d5-4ee5-9769-dec7d98ad3fd",
   "metadata": {},
   "outputs": [],
   "source": [
    "def select_sorted_population(fitness, population, length):\n",
    "    global population_size\n",
    "    sort_dict = {}\n",
    "    for i in range(len(population)):\n",
    "        sort_dict[(fitness[i], 1 / fitness[i])] = i\n",
    "\n",
    "    sorted_key = sorted(sort_dict.keys(), key=operator.itemgetter(0), reverse=True)\n",
    "\n",
    "    sorted_index = [sort_dict[i] for i in sorted_key]\n",
    "    sorted_population = [population[i] for i in sorted_index]\n",
    "\n",
    "    return sorted_population[:length]\n"
   ]
  },
  {
   "cell_type": "code",
   "execution_count": 10,
   "id": "a1f4b77b-3f6b-47dc-86cd-77f688740b41",
   "metadata": {},
   "outputs": [],
   "source": [
    "## 交换基因操作\n",
    "def exchange(chromosome_list,pc):\n",
    "    for i in range(0, len(chromosome_list) - 1, 2):\n",
    "            if random.uniform(0, 1) < pc:\n",
    "                index_1 = random.randint(0, len(chromosome_list[0])-1)\n",
    "                index_2 = random.randint(index_1, len(chromosome_list[0])-1)\n",
    "                temp_gene_1 = chromosome_list[i+1][index_1:index_2]\n",
    "                # 随机生成交叉点\n",
    "                newGene_1 = []\n",
    "                p1len = 0\n",
    "                for g in chromosome_list[i]:\n",
    "\n",
    "                    if p1len == index_1:\n",
    "                            newGene_1.extend(temp_gene_1)                               #插入基因片段\n",
    "                            p1len += 1\n",
    "                    if g not in temp_gene_1:\n",
    "                            newGene_1.append(g)\n",
    "                            p1len += 1\n",
    "\n",
    "                index_1 = random.randint(0, len(chromosome_list[0])-1)\n",
    "                index_2 = random.randint(index_1, len(chromosome_list[0])-1)\n",
    "                temp_gene_2 = chromosome_list[i][index_1:index_2]\n",
    "                # 随机生成交叉点\n",
    "                newGene_2 = []\n",
    "                p1len = 0\n",
    "                for g in chromosome_list[i+1]:\n",
    "\n",
    "                    if p1len == index_1:\n",
    "                            newGene_2.extend(temp_gene_2)                               #插入基因片段\n",
    "                            p1len += 1\n",
    "                    if g not in temp_gene_2:\n",
    "                            newGene_2.append(g)\n",
    "                            p1len += 1\n",
    "                chromosome_list[i] = newGene_1\n",
    "                chromosome_list[i+1] = newGene_2\n",
    "    return chromosome_list"
   ]
  },
  {
   "cell_type": "code",
   "execution_count": 11,
   "id": "d2a3004c-28d7-4373-88c2-313d97bc96fb",
   "metadata": {},
   "outputs": [],
   "source": [
    "## 变异操作 某个城市变异\n",
    "def mutation(chromosome_list,mc):\n",
    "    for i in range(len(chromosome_list)):\n",
    "        if random.uniform(0,1) < mc:\n",
    "            m_point = random.randint(0,len(chromosome_list[0])-1)\n",
    "            rand_num = random.randint(0,26)\n",
    "            old_num = chromosome_list[i][m_point]\n",
    "            chromosome_list[i][m_point] = rand_num\n",
    "            chromosome_list[i][np.argwhere(np.asarray(chromosome_list[i]) == rand_num)[0][0]] = old_num\n",
    "            \n",
    "    return chromosome_list"
   ]
  },
  {
   "cell_type": "code",
   "execution_count": 12,
   "id": "c5c14974-a0bb-4a74-a47b-8b5ffbcae0f6",
   "metadata": {},
   "outputs": [
    {
     "ename": "NameError",
     "evalue": "name 'data_tsp' is not defined",
     "output_type": "error",
     "traceback": [
      "\u001b[1;31m---------------------------------------------------------------------------\u001b[0m",
      "\u001b[1;31mNameError\u001b[0m                                 Traceback (most recent call last)",
      "\u001b[1;32m<ipython-input-12-1db36c5797ab>\u001b[0m in \u001b[0;36m<module>\u001b[1;34m\u001b[0m\n\u001b[0;32m      1\u001b[0m \u001b[1;32mfrom\u001b[0m \u001b[0mmatplotlib\u001b[0m \u001b[1;32mimport\u001b[0m \u001b[0mpyplot\u001b[0m \u001b[1;32mas\u001b[0m \u001b[0mplt\u001b[0m\u001b[1;33m\u001b[0m\u001b[1;33m\u001b[0m\u001b[0m\n\u001b[0;32m      2\u001b[0m \u001b[1;32mimport\u001b[0m \u001b[0mseaborn\u001b[0m \u001b[1;32mas\u001b[0m \u001b[0msns\u001b[0m\u001b[1;33m\u001b[0m\u001b[1;33m\u001b[0m\u001b[0m\n\u001b[1;32m----> 3\u001b[1;33m \u001b[0msns\u001b[0m\u001b[1;33m.\u001b[0m\u001b[0mscatterplot\u001b[0m\u001b[1;33m(\u001b[0m\u001b[0mdata_tsp\u001b[0m\u001b[1;33m.\u001b[0m\u001b[0mx\u001b[0m\u001b[1;33m,\u001b[0m\u001b[0mdata_tsp\u001b[0m\u001b[1;33m.\u001b[0m\u001b[0my\u001b[0m\u001b[1;33m)\u001b[0m\u001b[1;33m\u001b[0m\u001b[1;33m\u001b[0m\u001b[0m\n\u001b[0m",
      "\u001b[1;31mNameError\u001b[0m: name 'data_tsp' is not defined"
     ]
    }
   ],
   "source": [
    "from matplotlib import pyplot as plt\n",
    "import seaborn as sns\n",
    "sns.scatterplot(data_tsp.x,data_tsp.y)"
   ]
  },
  {
   "cell_type": "markdown",
   "id": "f14954ea-2744-4d3d-9468-fdac26cd2de1",
   "metadata": {},
   "source": [
    "优化样本选择过程\n",
    "\n",
    "首先选择最优四分之一样本\n",
    "其次通过轮盘赌选择当前较优的样本进行crossover"
   ]
  },
  {
   "cell_type": "code",
   "execution_count": 13,
   "id": "0b026729-fc4e-4921-9b67-d5710847cfdd",
   "metadata": {},
   "outputs": [],
   "source": [
    "# 轮赌盘选择算子\n",
    "def selection(fitness, num):\n",
    "    def select_one(fitness, fitness_sum):\n",
    "        size = len(fitness)\n",
    "        i = random.randint(0, size - 1)\n",
    "        while True:\n",
    "            if random.random() < fitness[i] / fitness_sum:\n",
    "                return i\n",
    "            else:\n",
    "                i = (i + 1) % size\n",
    "\n",
    "    res = set()\n",
    "    fitness_sum = sum(fitness)\n",
    "    while len(res) < num:\n",
    "        t = select_one(fitness, fitness_sum)\n",
    "        res.add(t)\n",
    "    return res"
   ]
  },
  {
   "cell_type": "code",
   "execution_count": 14,
   "id": "d07a8623-fb5f-4e84-8404-7c8b008ac3df",
   "metadata": {},
   "outputs": [],
   "source": [
    "\n",
    "# 排序，并且返回length长的population\n",
    "def select_sorted_population(fitness, population, length):\n",
    "    sort_dict = {}\n",
    "    for i in range(len(population)):\n",
    "        sort_dict[(fitness[i], 1 / fitness[i])] = i\n",
    "\n",
    "    sorted_key = sorted(sort_dict.keys(), key=operator.itemgetter(0), reverse=True)\n",
    "\n",
    "    sorted_index = [sort_dict[i] for i in sorted_key]\n",
    "    sorted_population = [population[i] for i in sorted_index]\n",
    "\n",
    "    return sorted_population[:length]"
   ]
  },
  {
   "cell_type": "code",
   "execution_count": 15,
   "id": "01ece0fb-401d-4403-9832-4624584c733c",
   "metadata": {},
   "outputs": [],
   "source": [
    "## 轮盘赌选出两个比较好的然后，在对他们进行交叉复制，然后再进行变异\n",
    "# 轮赌盘选择算子\n",
    "def selection(fitness, num):\n",
    "    def select_one(fitness, fitness_sum):\n",
    "        size = len(fitness)\n",
    "        i = random.randint(0, size - 1)\n",
    "        while True:\n",
    "            if random.random() < fitness[i] / fitness_sum:\n",
    "                return i\n",
    "            else:\n",
    "                i = (i + 1) % size\n",
    "\n",
    "    res = set()\n",
    "    fitness_sum = sum(fitness)\n",
    "    while len(res) < num:\n",
    "        t = select_one(fitness, fitness_sum)\n",
    "        res.add(t)\n",
    "    return res\n",
    "\n",
    "def crossover(p1,p2):\n",
    "    a = random.randint(0,len(p1)-1)\n",
    "    p1_part,p2_part = p1[a:],p2[a:]\n",
    "    p1_part_new = []\n",
    "    p2_part_new = []\n",
    "    for i in p1:\n",
    "        if i not in p2_part:\n",
    "            p1_part_new.append(i)\n",
    "    p1_part_new.appned(p2_part)\n",
    "    for i in p2:\n",
    "        if i not in p1_part:\n",
    "            p2_part_new.append(i)\n",
    "    p2_part_new.appned(p1_part)\n",
    "\n",
    "\n",
    "\n",
    "    "
   ]
  },
  {
   "cell_type": "code",
   "execution_count": 16,
   "id": "d961acf3-cfbc-4433-9bf6-47d0e78f8fbc",
   "metadata": {},
   "outputs": [],
   "source": [
    "# 杂交算子\n",
    "def crossover(parent1, parent2):\n",
    "\n",
    "    a = random.randint(1, len(parent1) - 1)\n",
    "    child1, child2 = parent1[:a], parent2[:a]\n",
    "\n",
    "    for i in range(len(parent1)):\n",
    "        if parent2[i] not in child1:\n",
    "            child1.append(parent2[i])\n",
    "\n",
    "        if parent1[i] not in child2:\n",
    "            child2.append(parent1[i])\n",
    "\n",
    "    return child1, child2\n",
    "\n",
    "\n",
    "def get_two(length):\n",
    "    b=a = random.randint(0,length-1)\n",
    "    while a==b:\n",
    "        b = random.randint(0,length-1)\n",
    "    if a>b:\n",
    "        return b,a\n",
    "    else: return a,b\n",
    "\n",
    "def mutaion_exchange(s):\n",
    "    # 自己手写的2变换\n",
    "    a, b = get_two(len(s))\n",
    "    for i in range(a, (a + b) // 2 + 1):\n",
    "        s[i], s[b + a - i] = s[b + a - i], s[i]\n",
    "\n",
    "    return s\n",
    "\n",
    "# 滑动变异\n",
    "def slide_mutation(s):\n",
    "    a, b = get_two(len(s))\n",
    "    t = s[a]\n",
    "    for i in range(a + 1, b + 1):\n",
    "        s[i - 1] = s[i]\n",
    "    s[b] = t\n",
    "    return s\n",
    "\n",
    "def get_fitness_one(p1,dist_matrix):\n",
    "    fitness_list = []\n",
    "    for i in range(dist_matrix.shape[0]-1):\n",
    "        if i != dist_matrix.shape[0]-1:\n",
    "            fitness_list.append(1/dist_matrix[p1[i],p1[i+1]])\n",
    "        else: fitness_list.append(1/dist_matrix[p1[city_num-1],p1[0]])\n",
    "    return sum(fitness_list)\n",
    "# SMB\n",
    "def select_best_mutaion(s, dist_matrix):\n",
    "    s_res = [mutaion_exchange(s[:]), slide_mutation(s[:])]\n",
    "    res = [get_fitness_one(s_res[0], dist_matrix), get_fitness_one(s_res[1], dist_matrix)]\n",
    "\n",
    "    min_index = res.index(max(res))\n",
    "\n",
    "    return s_res[min_index]    "
   ]
  },
  {
   "cell_type": "code",
   "execution_count": 17,
   "id": "b37ff1d0-1ce9-4f15-9cce-ef94313aac59",
   "metadata": {},
   "outputs": [],
   "source": [
    "## 随机生成20个初始随机路线\n",
    "import itertools\n",
    "import pandas as pd\n",
    "city_num = 70\n",
    "p_mutation = 0.02\n",
    "data_y = [random.uniform(1,10) for _ in range(city_num)]\n",
    "data_x = [random.uniform(1,10) for _ in range(city_num)]\n",
    "row_id = [i for i in range(city_num)]\n",
    "data_tsp = pd.DataFrame(columns =['x','y','id'])\n",
    "data_tsp['x']= data_x\n",
    "data_tsp['y']= data_y\n",
    "data_tsp['id']= row_id\n",
    "chromosome_list = []\n",
    "sample_1 = [i for i in range(city_num)]\n"
   ]
  },
  {
   "cell_type": "code",
   "execution_count": 18,
   "id": "1d069986-06f3-4424-baa8-94306b61e447",
   "metadata": {
    "tags": []
   },
   "outputs": [
    {
     "name": "stderr",
     "output_type": "stream",
     "text": [
      "C:\\Users\\Louie.CNL-HYDN6G3\\Anaconda3\\lib\\site-packages\\seaborn\\_decorators.py:36: FutureWarning: Pass the following variables as keyword args: x, y. From version 0.12, the only valid positional argument will be `data`, and passing other arguments without an explicit keyword will result in an error or misinterpretation.\n",
      "  warnings.warn(\n"
     ]
    },
    {
     "ename": "TypeError",
     "evalue": "unhashable type: 'numpy.ndarray'",
     "output_type": "error",
     "traceback": [
      "\u001b[1;31m---------------------------------------------------------------------------\u001b[0m",
      "\u001b[1;31mTypeError\u001b[0m                                 Traceback (most recent call last)",
      "\u001b[1;32m<ipython-input-18-71255754eaeb>\u001b[0m in \u001b[0;36m<module>\u001b[1;34m\u001b[0m\n\u001b[0;32m     24\u001b[0m \u001b[1;33m\u001b[0m\u001b[0m\n\u001b[0;32m     25\u001b[0m \u001b[1;31m## 循环优化\u001b[0m\u001b[1;33m\u001b[0m\u001b[1;33m\u001b[0m\u001b[1;33m\u001b[0m\u001b[0m\n\u001b[1;32m---> 26\u001b[1;33m \u001b[0mfitness_ratio_list\u001b[0m \u001b[1;33m=\u001b[0m \u001b[0mget_fitness\u001b[0m\u001b[1;33m(\u001b[0m\u001b[0mchromosome_list\u001b[0m\u001b[1;33m,\u001b[0m\u001b[0mdist_matrix\u001b[0m\u001b[1;33m)\u001b[0m\u001b[1;33m\u001b[0m\u001b[1;33m\u001b[0m\u001b[0m\n\u001b[0m\u001b[0;32m     27\u001b[0m \u001b[0mfitness_ratio_add\u001b[0m \u001b[1;33m=\u001b[0m \u001b[0mlist\u001b[0m\u001b[1;33m(\u001b[0m\u001b[0mitertools\u001b[0m\u001b[1;33m.\u001b[0m\u001b[0maccumulate\u001b[0m\u001b[1;33m(\u001b[0m\u001b[0mfitness_ratio_list\u001b[0m\u001b[1;33m)\u001b[0m\u001b[1;33m)\u001b[0m\u001b[1;33m\u001b[0m\u001b[1;33m\u001b[0m\u001b[0m\n\u001b[0;32m     28\u001b[0m \u001b[0mfitness_ratio_add\u001b[0m \u001b[1;33m=\u001b[0m \u001b[0mfitness_ratio_add\u001b[0m\u001b[1;33m/\u001b[0m\u001b[0msum\u001b[0m\u001b[1;33m(\u001b[0m\u001b[0mfitness_ratio_list\u001b[0m\u001b[1;33m)\u001b[0m\u001b[1;33m\u001b[0m\u001b[1;33m\u001b[0m\u001b[0m\n",
      "\u001b[1;32m<ipython-input-4-b3a09f9b33d9>\u001b[0m in \u001b[0;36mget_fitness\u001b[1;34m(chromosome_list, province_list)\u001b[0m\n\u001b[0;32m      2\u001b[0m         \u001b[0mfitness_ratio_list\u001b[0m \u001b[1;33m=\u001b[0m \u001b[1;33m[\u001b[0m\u001b[1;33m]\u001b[0m\u001b[1;33m\u001b[0m\u001b[1;33m\u001b[0m\u001b[0m\n\u001b[0;32m      3\u001b[0m         \u001b[1;32mfor\u001b[0m \u001b[0mchorme\u001b[0m \u001b[1;32min\u001b[0m \u001b[0mchromosome_list\u001b[0m\u001b[1;33m:\u001b[0m\u001b[1;33m\u001b[0m\u001b[1;33m\u001b[0m\u001b[0m\n\u001b[1;32m----> 4\u001b[1;33m             \u001b[0mchorme\u001b[0m \u001b[1;33m=\u001b[0m \u001b[0mdict\u001b[0m\u001b[1;33m(\u001b[0m\u001b[0mzip\u001b[0m\u001b[1;33m(\u001b[0m\u001b[0mprovince_list\u001b[0m\u001b[1;33m,\u001b[0m\u001b[0mchorme\u001b[0m\u001b[1;33m)\u001b[0m\u001b[1;33m)\u001b[0m\u001b[1;33m\u001b[0m\u001b[1;33m\u001b[0m\u001b[0m\n\u001b[0m\u001b[0;32m      5\u001b[0m             \u001b[0mfitness\u001b[0m \u001b[1;33m=\u001b[0m \u001b[1;36m0\u001b[0m\u001b[1;33m\u001b[0m\u001b[1;33m\u001b[0m\u001b[0m\n\u001b[0;32m      6\u001b[0m             \u001b[1;32mfor\u001b[0m \u001b[0mi\u001b[0m \u001b[1;32min\u001b[0m \u001b[0mtop_express\u001b[0m\u001b[1;33m:\u001b[0m\u001b[1;33m\u001b[0m\u001b[1;33m\u001b[0m\u001b[0m\n",
      "\u001b[1;31mTypeError\u001b[0m: unhashable type: 'numpy.ndarray'"
     ]
    },
    {
     "data": {
      "image/png": "[encoded data removed]",
      "text/plain": [
       "<Figure size 504x504 with 1 Axes>"
      ]
     },
     "metadata": {
      "needs_background": "light"
     },
     "output_type": "display_data"
    }
   ],
   "source": [
    "\n",
    "population_size = 50\n",
    "for i in range(population_size):\n",
    "    random.shuffle(sample_1)\n",
    "    chromosome_list.append(sample_1[:])\n",
    "\n",
    "\n",
    "from matplotlib import pyplot as plt\n",
    "import seaborn as sns\n",
    "fig,axes = plt.subplots(1,1,figsize=(7,7))\n",
    "sns.scatterplot(data_tsp.x,data_tsp.y,ax =axes)\n",
    "for i in range(len(data_tsp.x)):\n",
    "    x_t = data_tsp.x[i]\n",
    "    y_t = data_tsp.y[i]\n",
    "    axes.annotate(text = data_tsp.index[i], xy=(x_t, y_t), xytext=(x_t, y_t))\n",
    "\n",
    "## 计算两两之间距离\n",
    "import numpy as np\n",
    "dist_matrix =  np.zeros([city_num,city_num])\n",
    "for i in range(city_num):\n",
    "    for j in range(city_num):\n",
    "        a = data_tsp[data_tsp['id']==i][['x','y']].loc[i]-data_tsp[data_tsp['id']==j][['x','y']].loc[j]\n",
    "        dist_matrix[i,j] = a.x**2 + a.y**2\n",
    "\n",
    "\n",
    "## 循环优化\n",
    "fitness_ratio_list = get_fitness(chromosome_list,dist_matrix)\n",
    "fitness_ratio_add = list(itertools.accumulate(fitness_ratio_list))\n",
    "fitness_ratio_add = fitness_ratio_add/sum(fitness_ratio_list)\n",
    "import itertools\n",
    "best_result = []\n",
    "best_fitness = []\n",
    "generation = 5000\n",
    "picture = [0.001,0.005,0.01,0.02,0.05,0.08,0.1,0.2,0.3,0.5,0.8,1]\n",
    "picture_new = [i * generation for i in picture]\n",
    "population_cur = chromosome_list\n",
    "d = 0\n",
    "fig,axes = plt.subplots(3,4,figsize=(40,20)) \n",
    "for t in range(0,generation,1):\n",
    "    ## 选出比较好的前1/4样本\n",
    "    population_next = select_sorted_population(fitness_ratio_list,population_cur,len(chromosome_list)//4)\n",
    "    for i in range(population_size):\n",
    "        a,b = selection(fitness_ratio_list,2)\n",
    "        child1,child2 = crossover(population_cur[a],population_cur[b])\n",
    "            # 变异\n",
    "        if random.random() < p_mutation:\n",
    "                child1 = select_best_mutaion(child1,dist_matrix)\n",
    "        if random.random() < p_mutation:\n",
    "                child2 = select_best_mutaion(child2,dist_matrix)      \n",
    "        population_next.append(child1)\n",
    "        population_next.append(child2)\n",
    "\n",
    "        # 选出下一代的种群\n",
    "    fitness_ratio_list = get_fitness(population_next,dist_matrix)\n",
    "    population_next = select_sorted_population(fitness_ratio_list, population_next, population_size)\n",
    "    population_cur = population_next\n",
    "    fitness_ratio_list = get_fitness(population_cur,dist_matrix)\n",
    "    fitness_ratio_add = list(itertools.accumulate(fitness_ratio_list))\n",
    "    fitness_ratio_add = fitness_ratio_add/sum(fitness_ratio_list)\n",
    "    best_result.append(population_cur[int(np.argwhere(fitness_ratio_list == max(fitness_ratio_list))[0])])\n",
    "    best_fitness.append(max(fitness_ratio_list))\n",
    "    \n",
    "    if int(t+1) == int(picture_new[d]):\n",
    "            x1 = []\n",
    "            y1 =[]\n",
    "            x2 =[]\n",
    "            y2 = []\n",
    "            if (d+1)%4 ==0:\n",
    "                e,g = (d+1)//4-1,3\n",
    "            else: e,g=(d+1)//4,d%4\n",
    "            for i in range(len(data_tsp)):\n",
    "                x1.append(data_tsp.x[i])\n",
    "                y1.append(data_tsp.y[i])\n",
    "            for i in range(len(best_result[0])):\n",
    "                x2.append(data_tsp.x[best_result[best_fitness.index(max(best_fitness))][i]])\n",
    "                y2.append(data_tsp.y[best_result[best_fitness.index(max(best_fitness))][i]])\n",
    "            axes[e,g].plot(x2,y2,color='blue',marker='o' ); #画点\n",
    "            for i in range(len(x2)):\n",
    "                axes[e,g].text(x2[i],y2[i],i+1) \n",
    "            d =d+ 1\n",
    "            print(e,g)\n",
    "    \n",
    "    \n",
    "# x = [i for i in range(generation)]\n",
    "# fig1 = plt.figure('figure', figsize=(13, 5)).add_subplot(121)\n",
    "# fig1.plot(x, best_fitness)\n",
    "# plt.show()\n",
    "# print(\"self.best_dist\",end=\":\")\n",
    "\n",
    "# print(\"self.best_individual\",end=\":\")\n",
    "\n",
    "# x1=[]\n",
    "# y1=[]\n",
    "# x2=[]\n",
    "# y2=[]\n",
    "# for i in range(len(data_tsp)):\n",
    "#     x1.append(data_tsp.x[i])\n",
    "#     y1.append(data_tsp.y[i])\n",
    "# for i in range(len(best_result[0])):\n",
    "#     x2.append(data_tsp.x[best_result[best_fitness.index(max(best_fitness))][i]])\n",
    "#     y2.append(data_tsp.y[best_result[best_fitness.index(max(best_fitness))][i]])\n",
    "# plt.title(\"citys_position\")\n",
    "# plt.scatter(x1,y1,color='blue',marker='o' ); #画点\n",
    "# plt.figure();\n",
    "# plt.title(\"best_route\")\n",
    "# plt.plot(x2,y2,color='blue',marker='o' ); #画点\n",
    "# for i in range(len(x2)):\n",
    "#     plt.text(x2[i],y2[i],i+1)\n",
    "# plt.figure();\n",
    "# plt.title(\"best_dist_change\")\n",
    "# ## plt.plot(self.best_dist_list,color='r')\n",
    "# plt.show()"
   ]
  },
  {
   "cell_type": "code",
   "execution_count": 17,
   "id": "9e834f47-465a-457a-b6ec-b3ad7705963e",
   "metadata": {},
   "outputs": [
    {
     "data": {
      "image/png": "[encoded data removed]",
      "text/plain": [
       "<Figure size 936x360 with 1 Axes>"
      ]
     },
     "metadata": {
      "needs_background": "light"
     },
     "output_type": "display_data"
    },
    {
     "name": "stdout",
     "output_type": "stream",
     "text": [
      "self.best_dist:self.best_individual:x1:[7.93194442090295, 6.0739637371081, 1.4025891202406982, 6.891718487284663, 2.785774986816569, 7.21995021459626, 9.324494927936673, 8.98414200126045, 2.304408349988244, 6.604156206850852, 2.7192002617263773, 5.397669028291162, 3.8338509498414766, 4.218022834237772, 1.4959050209080786, 1.5752914185759106, 8.166305740596261, 5.381744242842901, 2.3210497197671103, 5.2838680067006, 6.452368844786681, 2.1072574299257973, 1.5735698462195502, 9.23800906721146, 6.755134199973672, 8.489477439185404, 2.8835622421169247, 3.327894275728514, 4.068720368955864, 2.7499605251442945, 3.230163018219896, 9.079847657371499, 9.219307013399192, 4.325427783731323, 5.053744818866777, 7.479876028749154, 5.6561053382281035, 4.768753718796603, 3.2614190405821546, 4.872844910294348, 6.012935460274886, 4.980714487028209, 6.339056496463559, 1.2717665410707368, 4.267702699443596, 6.601573951241941, 3.0423459111014948, 8.675345256514106, 2.137770015099782, 5.524464085248235, 2.326047101609358, 7.00478184627304, 6.1452874592052655, 3.5661238841297003, 5.216779478985854, 4.4702172402805305, 1.5780207435763454, 2.0041186472378794, 8.963680354041852, 9.611932593442754, 3.6824662343959487, 7.776877494780462, 2.21307214518858, 9.897809448395755, 7.410178244772981, 3.1620740969373466, 8.833324223174131, 1.727875531055111, 3.9564346823495846, 5.562223936423744]\n",
      "y1:[2.2455141518305886, 2.2750292270176766, 5.767111544559578, 9.273336210377735, 8.996503940798565, 8.4988046046306, 5.5658782158084446, 5.675640656858743, 9.94810603242639, 2.525261777171372, 3.5935443347760017, 7.959941493374133, 4.5797282684355345, 3.1344908678512504, 2.926514240336728, 3.5100572387974114, 2.6002572382435467, 7.400764149269384, 2.2180387745004073, 3.11483658102438, 1.5215282991698618, 2.155025000242549, 2.123783690526868, 8.574987554745036, 1.593802216893364, 9.4290583014866, 4.076733142264963, 7.422086895654824, 1.900014931697838, 8.761305154470916, 4.85867542686592, 1.489348572498998, 9.851945575545866, 7.03557293313141, 9.268849063679435, 8.931052993745073, 6.161203367641912, 7.928858581634698, 5.329211210324205, 3.497213452020914, 4.243800656877031, 6.442663102824317, 7.192233776767105, 3.8105764011387286, 7.8665102814812204, 4.262807718443147, 9.63689625528393, 3.281922051511195, 3.4111625737889355, 8.366567482590163, 6.431191916494747, 5.3156295058417555, 1.9811360296035252, 7.4553602033472925, 1.8936049983619663, 8.786137007448325, 8.958294340839084, 9.477693538453915, 3.0574027130643193, 8.976967089456947, 4.031741679935704, 5.726128753871148, 3.4147284024367215, 9.492932570173517, 7.194810070651111, 1.1645175512956243, 6.006811031134931, 2.1879699707258515, 9.11833609023153, 1.573439712509701]\n",
      "x2:[9.079847657371499, 8.963680354041852, 8.675345256514106, 8.166305740596261, 7.93194442090295, 6.604156206850852, 6.0739637371081, 6.1452874592052655, 6.452368844786681, 6.755134199973672, 5.562223936423744, 5.216779478985854, 5.2838680067006, 4.872844910294348, 4.218022834237772, 4.068720368955864, 3.1620740969373466, 2.3210497197671103, 2.1072574299257973, 1.727875531055111, 1.5735698462195502, 1.4959050209080786, 1.2717665410707368, 1.5752914185759106, 2.137770015099782, 2.21307214518858, 2.7192002617263773, 2.8835622421169247, 3.6824662343959487, 3.8338509498414766, 3.230163018219896, 3.2614190405821546, 2.326047101609358, 1.4025891202406982, 1.5780207435763454, 2.0041186472378794, 2.304408349988244, 3.0423459111014948, 2.785774986816569, 2.7499605251442945, 3.9564346823495846, 4.4702172402805305, 5.053744818866777, 5.524464085248235, 5.397669028291162, 5.381744242842901, 4.768753718796603, 4.267702699443596, 3.5661238841297003, 3.327894275728514, 4.325427783731323, 4.980714487028209, 5.6561053382281035, 6.339056496463559, 7.410178244772981, 7.21995021459626, 7.479876028749154, 6.891718487284663, 8.489477439185404, 9.219307013399192, 9.897809448395755, 9.611932593442754, 9.23800906721146, 9.324494927936673, 8.98414200126045, 8.833324223174131, 7.776877494780462, 7.00478184627304, 6.601573951241941, 6.012935460274886]\n",
      "y2:[1.489348572498998, 3.0574027130643193, 3.281922051511195, 2.6002572382435467, 2.2455141518305886, 2.525261777171372, 2.2750292270176766, 1.9811360296035252, 1.5215282991698618, 1.593802216893364, 1.573439712509701, 1.8936049983619663, 3.11483658102438, 3.497213452020914, 3.1344908678512504, 1.900014931697838, 1.1645175512956243, 2.2180387745004073, 2.155025000242549, 2.1879699707258515, 2.123783690526868, 2.926514240336728, 3.8105764011387286, 3.5100572387974114, 3.4111625737889355, 3.4147284024367215, 3.5935443347760017, 4.076733142264963, 4.031741679935704, 4.5797282684355345, 4.85867542686592, 5.329211210324205, 6.431191916494747, 5.767111544559578, 8.958294340839084, 9.477693538453915, 9.94810603242639, 9.63689625528393, 8.996503940798565, 8.761305154470916, 9.11833609023153, 8.786137007448325, 9.268849063679435, 8.366567482590163, 7.959941493374133, 7.400764149269384, 7.928858581634698, 7.8665102814812204, 7.4553602033472925, 7.422086895654824, 7.03557293313141, 6.442663102824317, 6.161203367641912, 7.192233776767105, 7.194810070651111, 8.4988046046306, 8.931052993745073, 9.273336210377735, 9.4290583014866, 9.851945575545866, 9.492932570173517, 8.976967089456947, 8.574987554745036, 5.5658782158084446, 5.675640656858743, 6.006811031134931, 5.726128753871148, 5.3156295058417555, 4.262807718443147, 4.243800656877031]\n"
     ]
    },
    {
     "data": {
      "image/png": "[encoded data removed]",
      "text/plain": [
       "<Figure size 432x288 with 1 Axes>"
      ]
     },
     "metadata": {
      "needs_background": "light"
     },
     "output_type": "display_data"
    },
    {
     "data": {
      "image/png": "[encoded data removed]",
      "text/plain": [
       "<Figure size 432x288 with 1 Axes>"
      ]
     },
     "metadata": {
      "needs_background": "light"
     },
     "output_type": "display_data"
    },
    {
     "data": {
      "image/png": "[encoded data removed]",
      "text/plain": [
       "<Figure size 432x288 with 1 Axes>"
      ]
     },
     "metadata": {
      "needs_background": "light"
     },
     "output_type": "display_data"
    }
   ],
   "source": [
    "x = [i for i in range(generation)]\n",
    "fig1 = plt.figure('figure', figsize=(13, 5)).add_subplot(121)\n",
    "fig1.plot(x, best_fitness)\n",
    "plt.show()\n",
    "print(\"self.best_dist\",end=\":\")\n",
    "\n",
    "print(\"self.best_individual\",end=\":\")\n",
    "\n",
    "x1=[]\n",
    "y1=[]\n",
    "x2=[]\n",
    "y2=[]\n",
    "for i in range(len(data_tsp)):\n",
    "    x1.append(data_tsp.x[i])\n",
    "    y1.append(data_tsp.y[i])\n",
    "for i in range(len(best_result[0])):\n",
    "    x2.append(data_tsp.x[best_result[best_fitness.index(max(best_fitness))][i]])\n",
    "    y2.append(data_tsp.y[best_result[best_fitness.index(max(best_fitness))][i]])\n",
    "print(\"x1:\",end=\"\")\n",
    "print(x1)\n",
    "print(\"y1:\",end=\"\")\n",
    "print(y1)\n",
    "print(\"x2:\",end=\"\")\n",
    "print(x2)\n",
    "print(\"y2:\",end=\"\")\n",
    "print(y2)\n",
    "plt.title(\"citys_position\")\n",
    "plt.scatter(x1,y1,color='blue',marker='o' ); #画点\n",
    "plt.figure();\n",
    "plt.title(\"best_route\")\n",
    "plt.plot(x2,y2,color='blue',marker='o' ); #画点\n",
    "for i in range(len(x2)):\n",
    "    plt.text(x2[i],y2[i],i+1)\n",
    "plt.figure();\n",
    "plt.title(\"best_dist_change\")\n",
    "## plt.plot(self.best_dist_list,color='r')\n",
    "plt.show()"
   ]
  },
  {
   "cell_type": "markdown",
   "id": "1648b694-37f9-4a93-ade5-086708524495",
   "metadata": {
    "tags": []
   },
   "source": [
    "## ***构建报价选择算法并设置通用参数***\n",
    "\n",
    "#### 1 按省份选择供应商\n",
    "##### 1.1 限制供应商数量输出结果\n",
    "           按照当前报价的结果\n",
    "           如何修改报价以及阶梯优惠获得更大收益\n",
    "#### 2 按平台选择供应商"
   ]
  },
  {
   "cell_type": "code",
   "execution_count": 47,
   "id": "c4e9e678-b48c-4358-8b7b-5e3ff2c3fa8c",
   "metadata": {},
   "outputs": [],
   "source": [
    "## 各供应商若承接各省份对应的折扣前cost\n",
    "import polars as pl\n",
    "import pandas as pd\n",
    "\n",
    "df = pd.read_excel('quotation data/quotation simulation_v2.xlsx',sheet_name=None);\n",
    "sheet_name_list = list(df.keys())\n",
    "                       \n",
    "before_discount =  pl.read_excel('quotation data/quotation simulation_v2.xlsx',sheet_name=\"2022 zto_v2\")\n",
    "before_discount = before_discount[0:124,0:6].with_columns(pl.lit(\"2022 zto_v2\").alias('express'))\n",
    "\n",
    "for i in  range(1,len(sheet_name_list)):\n",
    "    before_discount_1 =  pl.read_excel('quotation data/quotation simulation_v2.xlsx',sheet_name=sheet_name_list[i])\n",
    "    before_discount_1 = before_discount_1[0:124,0:6].with_columns(pl.lit(sheet_name_list[i]).alias('express'))\n",
    "    before_discount = pl.concat([before_discount,before_discount_1],how = 'vertical')\n",
    "\n",
    "## 将对应供应商名称编码话\n",
    "dict_express =dict(zip(list(before_discount.select(pl.col(\"express\").unique().list())[0,0]),[chr(i) for i in range(ord('a'),ord('h')+1)]))\n",
    "dict_express\n",
    "before_discount = before_discount.with_column(pl.col(\"express\").apply(lambda x:dict_express.get(x)).alias(\"express_code\"))"
   ]
  },
  {
   "cell_type": "code",
   "execution_count": 48,
   "id": "25f2930d-04fb-41b0-8d33-6ad03be64efd",
   "metadata": {
    "tags": []
   },
   "outputs": [],
   "source": [
    "## 限制供应商的选择数量生产组合\n",
    " ##以限制三家供应商的情况\n",
    "## 首先选择三家总价模拟最低的供应商\n",
    "import random\n",
    "top_express = before_discount.groupby(\"express_code\").agg(pl.col(\"cost\").sum()).sort(\"cost\").head(3).select(pl.col(\"express_code\")).to_numpy().tolist()\n",
    "from itertools import chain\n",
    "top_express = list(chain.from_iterable(top_express))\n",
    "province_list = list(chain.from_iterable(before_discount.select(pl.col(\"province\").unique()).to_numpy().tolist()))\n",
    "chromosome_list = []\n",
    "population_size = 50\n",
    "for i in range(population_size):\n",
    "    chromosome_list.append([random.sample(top_express,1)[0] for _ in range(0,int((before_discount.select(pl.col(\"province\").unique().count()).to_numpy()+1)[0]))])\n"
   ]
  },
  {
   "cell_type": "code",
   "execution_count": 49,
   "id": "bbb0b748-ba3c-41a5-b76f-9cc26fafe6fd",
   "metadata": {},
   "outputs": [],
   "source": [
    "def get_fitness(chromosome_list,province_list):\n",
    "        fitness_ratio_list = []\n",
    "        for chorme in chromosome_list:\n",
    "            chorme = dict(zip(province_list,chorme))\n",
    "            fitness = 0\n",
    "            for i in top_express:\n",
    "                 fitness+=  before_discount.filter((pl.col(\"express_code\")==i)&(pl.col(\"province\").is_in([k for k,v in chorme.items() if v == i]))).select(pl.col('cost').sum())[0,0]\n",
    "            fitness_ratio_list.append(fitness)        \n",
    "        return fitness_ratio_list"
   ]
  },
  {
   "cell_type": "code",
   "execution_count": 50,
   "id": "e000aacd-c8e8-4372-be96-f2517eab3cdc",
   "metadata": {},
   "outputs": [],
   "source": [
    "# 杂交算子\n",
    "def crossover(parent1, parent2):\n",
    "\n",
    "    a = random.randint(1, len(parent1) - 1)\n",
    "    child1, child2 = parent1[:a], parent2[:a]\n",
    "\n",
    "    for i in range(len(parent1)):\n",
    "        if parent2[i] not in child1:\n",
    "            child1.append(parent2[i])\n",
    "\n",
    "        if parent1[i] not in child2:\n",
    "            child2.append(parent1[i])\n",
    "\n",
    "    return child1, child2\n",
    "\n",
    "\n",
    "def get_two(length):\n",
    "    b=a = random.randint(0,length-1)\n",
    "    while a==b:\n",
    "        b = random.randint(0,length-1)\n",
    "    if a>b:\n",
    "        return b,a\n",
    "    else: return a,b\n",
    "\n",
    "def mutaion_exchange(s):\n",
    "    # 自己手写的2变换\n",
    "    a, b = get_two(len(s))\n",
    "    for i in range(a, (a + b) // 2 + 1):\n",
    "        s[i], s[b + a - i] = s[b + a - i], s[i]\n",
    "\n",
    "    return s\n",
    "\n",
    "# 滑动变异\n",
    "def slide_mutation(s):\n",
    "    a, b = get_two(len(s))\n",
    "    t = s[a]\n",
    "    for i in range(a + 1, b + 1):\n",
    "        s[i - 1] = s[i]\n",
    "    s[b] = t\n",
    "    return s\n",
    "\n",
    "def get_fitness_one(p1,province_list):\n",
    "    chorme = dict(zip(province_list,p1))\n",
    "    fitness = before_discount.filter((pl.col(\"express_code\")==i)&(pl.col(\"province\").is_in([k for k,v in chorme.items() if v == i]))).select(pl.col('cost').sum())[0,0]\n",
    "    return fitness\n",
    "# SMB\n",
    "def select_best_mutaion(s, province_list):\n",
    "    s_res = [mutaion_exchange(s[:]), slide_mutation(s[:])]\n",
    "    res = [get_fitness_one(s_res[0], province_list), get_fitness_one(s_res[1], province_list)]\n",
    "\n",
    "    min_index = res.index(max(res))\n",
    "\n",
    "    return s_res[min_index]    "
   ]
  },
  {
   "cell_type": "code",
   "execution_count": 51,
   "id": "fc507268-e124-41d1-9131-e2dba0ddd1ef",
   "metadata": {
    "collapsed": true,
    "jupyter": {
     "outputs_hidden": true
    },
    "tags": []
   },
   "outputs": [
    {
     "ename": "IndexError",
     "evalue": "list index out of range",
     "output_type": "error",
     "traceback": [
      "\u001b[1;31m---------------------------------------------------------------------------\u001b[0m",
      "\u001b[1;31mIndexError\u001b[0m                                Traceback (most recent call last)",
      "\u001b[1;32m<ipython-input-51-560d798b6ed3>\u001b[0m in \u001b[0;36m<module>\u001b[1;34m\u001b[0m\n\u001b[0;32m     21\u001b[0m     \u001b[1;32mfor\u001b[0m \u001b[0mi\u001b[0m \u001b[1;32min\u001b[0m \u001b[0mrange\u001b[0m\u001b[1;33m(\u001b[0m\u001b[0mpopulation_size\u001b[0m\u001b[1;33m)\u001b[0m\u001b[1;33m:\u001b[0m\u001b[1;33m\u001b[0m\u001b[1;33m\u001b[0m\u001b[0m\n\u001b[0;32m     22\u001b[0m         \u001b[0ma\u001b[0m\u001b[1;33m,\u001b[0m\u001b[0mb\u001b[0m \u001b[1;33m=\u001b[0m \u001b[0mselection\u001b[0m\u001b[1;33m(\u001b[0m\u001b[0mfitness_ratio_list\u001b[0m\u001b[1;33m,\u001b[0m\u001b[1;36m2\u001b[0m\u001b[1;33m)\u001b[0m\u001b[1;33m\u001b[0m\u001b[1;33m\u001b[0m\u001b[0m\n\u001b[1;32m---> 23\u001b[1;33m         \u001b[0mchild1\u001b[0m\u001b[1;33m,\u001b[0m\u001b[0mchild2\u001b[0m \u001b[1;33m=\u001b[0m \u001b[0mcrossover\u001b[0m\u001b[1;33m(\u001b[0m\u001b[0mpopulation_cur\u001b[0m\u001b[1;33m[\u001b[0m\u001b[0ma\u001b[0m\u001b[1;33m]\u001b[0m\u001b[1;33m,\u001b[0m\u001b[0mpopulation_cur\u001b[0m\u001b[1;33m[\u001b[0m\u001b[0mb\u001b[0m\u001b[1;33m]\u001b[0m\u001b[1;33m)\u001b[0m\u001b[1;33m\u001b[0m\u001b[1;33m\u001b[0m\u001b[0m\n\u001b[0m\u001b[0;32m     24\u001b[0m             \u001b[1;31m# 变异\u001b[0m\u001b[1;33m\u001b[0m\u001b[1;33m\u001b[0m\u001b[1;33m\u001b[0m\u001b[0m\n\u001b[0;32m     25\u001b[0m         \u001b[1;32mif\u001b[0m \u001b[0mrandom\u001b[0m\u001b[1;33m.\u001b[0m\u001b[0mrandom\u001b[0m\u001b[1;33m(\u001b[0m\u001b[1;33m)\u001b[0m \u001b[1;33m<\u001b[0m \u001b[0mp_mutation\u001b[0m\u001b[1;33m:\u001b[0m\u001b[1;33m\u001b[0m\u001b[1;33m\u001b[0m\u001b[0m\n",
      "\u001b[1;32m<ipython-input-50-46479170b2e7>\u001b[0m in \u001b[0;36mcrossover\u001b[1;34m(parent1, parent2)\u001b[0m\n\u001b[0;32m      6\u001b[0m \u001b[1;33m\u001b[0m\u001b[0m\n\u001b[0;32m      7\u001b[0m     \u001b[1;32mfor\u001b[0m \u001b[0mi\u001b[0m \u001b[1;32min\u001b[0m \u001b[0mrange\u001b[0m\u001b[1;33m(\u001b[0m\u001b[0mlen\u001b[0m\u001b[1;33m(\u001b[0m\u001b[0mparent1\u001b[0m\u001b[1;33m)\u001b[0m\u001b[1;33m)\u001b[0m\u001b[1;33m:\u001b[0m\u001b[1;33m\u001b[0m\u001b[1;33m\u001b[0m\u001b[0m\n\u001b[1;32m----> 8\u001b[1;33m         \u001b[1;32mif\u001b[0m \u001b[0mparent2\u001b[0m\u001b[1;33m[\u001b[0m\u001b[0mi\u001b[0m\u001b[1;33m]\u001b[0m \u001b[1;32mnot\u001b[0m \u001b[1;32min\u001b[0m \u001b[0mchild1\u001b[0m\u001b[1;33m:\u001b[0m\u001b[1;33m\u001b[0m\u001b[1;33m\u001b[0m\u001b[0m\n\u001b[0m\u001b[0;32m      9\u001b[0m             \u001b[0mchild1\u001b[0m\u001b[1;33m.\u001b[0m\u001b[0mappend\u001b[0m\u001b[1;33m(\u001b[0m\u001b[0mparent2\u001b[0m\u001b[1;33m[\u001b[0m\u001b[0mi\u001b[0m\u001b[1;33m]\u001b[0m\u001b[1;33m)\u001b[0m\u001b[1;33m\u001b[0m\u001b[1;33m\u001b[0m\u001b[0m\n\u001b[0;32m     10\u001b[0m \u001b[1;33m\u001b[0m\u001b[0m\n",
      "\u001b[1;31mIndexError\u001b[0m: list index out of range"
     ]
    }
   ],
   "source": [
    "\n",
    "\n",
    "\n",
    "\n",
    "## 计算两两之间距离\n",
    "import numpy as np\n",
    "import operator\n",
    "\n",
    "## 循环优化\n",
    "fitness_ratio_list = get_fitness(chromosome_list,province_list)\n",
    "fitness_ratio_add = list(itertools.accumulate(fitness_ratio_list))\n",
    "fitness_ratio_add = [x/sum(fitness_ratio_list) for x in fitness_ratio_add ]\n",
    "import itertools\n",
    "best_result = []\n",
    "best_fitness = []\n",
    "generation = 5000\n",
    "picture = [0.001,0.005,0.01,0.02,0.05,0.08,0.1,0.2,0.3,0.5,0.8,1]\n",
    "picture_new = [i * generation for i in picture]\n",
    "population_cur = chromosome_list\n",
    "d = 0\n",
    "\n",
    "for t in range(0,generation,1):\n",
    "    ## 选出比较好的前1/4样本\n",
    "    population_next = select_sorted_population(fitness_ratio_list,population_cur,len(chromosome_list)//4)\n",
    "    for i in range(population_size):\n",
    "        a,b = selection(fitness_ratio_list,2)\n",
    "        child1,child2 = crossover(population_cur[a],population_cur[b])\n",
    "            # 变异\n",
    "        if random.random() < p_mutation:\n",
    "                child1 = select_best_mutaion(child1,province_list)\n",
    "        if random.random() < p_mutation:\n",
    "                child2 = select_best_mutaion(child2,province_list)      \n",
    "        population_next.append(child1)\n",
    "        population_next.append(child2)\n",
    "\n",
    "        # 选出下一代的种群\n",
    "    fitness_ratio_list = get_fitness(population_next,province_list)\n",
    "    population_next = select_sorted_population(fitness_ratio_list, population_next, population_size)\n",
    "    population_cur = population_next\n",
    "    fitness_ratio_list = get_fitness(population_cur,province_list)\n",
    "    fitness_ratio_add = list(itertools.accumulate(fitness_ratio_list))\n",
    "    fitness_ratio_add = [x/sum(fitness_ratio_list) for x in fitness_ratio_add ]\n",
    "    best_result.append(population_cur[int(fitness_ratio_list.index(max(fitness_ratio_list)))])\n",
    "    best_fitness.append(max(fitness_ratio_list))\n",
    "    \n",
    "    if int(t+1) == int(picture_new[d]):\n",
    "            x1 = []\n",
    "            y1 =[]\n",
    "            x2 =[]\n",
    "            y2 = []\n",
    "            if (d+1)%4 ==0:\n",
    "                e,g = (d+1)//4-1,3\n",
    "            else: e,g=(d+1)//4,d%4\n",
    "            for i in range(len(data_tsp)):\n",
    "                x1.append(data_tsp.x[i])\n",
    "                y1.append(data_tsp.y[i])\n",
    "            for i in range(len(best_result[0])):\n",
    "                x2.append(data_tsp.x[best_result[best_fitness.index(max(best_fitness))][i]])\n",
    "                y2.append(data_tsp.y[best_result[best_fitness.index(max(best_fitness))][i]])\n",
    "            axes[e,g].plot(x2,y2,color='blue',marker='o' ); #画点\n",
    "            for i in range(len(x2)):\n",
    "                axes[e,g].text(x2[i],y2[i],i+1) \n",
    "            d =d+ 1\n",
    "            print(e,g)\n",
    "    \n",
    "    \n",
    "# x = [i for i in range(generation)]\n",
    "# fig1 = plt.figure('figure', figsize=(13, 5)).add_subplot(121)\n",
    "# fig1.plot(x, best_fitness)\n",
    "# plt.show()\n",
    "# print(\"self.best_dist\",end=\":\")\n",
    "\n",
    "# print(\"self.best_individual\",end=\":\")\n",
    "\n",
    "# x1=[]\n",
    "# y1=[]\n",
    "# x2=[]\n",
    "# y2=[]\n",
    "# for i in range(len(data_tsp)):\n",
    "#     x1.append(data_tsp.x[i])\n",
    "#     y1.append(data_tsp.y[i])\n",
    "# for i in range(len(best_result[0])):\n",
    "#     x2.append(data_tsp.x[best_result[best_fitness.index(max(best_fitness))][i]])\n",
    "#     y2.append(data_tsp.y[best_result[best_fitness.index(max(best_fitness))][i]])\n",
    "# plt.title(\"citys_position\")\n",
    "# plt.scatter(x1,y1,color='blue',marker='o' ); #画点\n",
    "# plt.figure();\n",
    "# plt.title(\"best_route\")\n",
    "# plt.plot(x2,y2,color='blue',marker='o' ); #画点\n",
    "# for i in range(len(x2)):\n",
    "#     plt.text(x2[i],y2[i],i+1)\n",
    "# plt.figure();\n",
    "# plt.title(\"best_dist_change\")\n",
    "# ## plt.plot(self.best_dist_list,color='r')\n",
    "# plt.show()"
   ]
  },
  {
   "cell_type": "code",
   "execution_count": 56,
   "id": "30bada17-7603-4f7f-ab8a-e235e092f55e",
   "metadata": {},
   "outputs": [
    {
     "ename": "IndexError",
     "evalue": "list index out of range",
     "output_type": "error",
     "traceback": [
      "\u001b[1;31m---------------------------------------------------------------------------\u001b[0m",
      "\u001b[1;31mIndexError\u001b[0m                                Traceback (most recent call last)",
      "\u001b[1;32m<ipython-input-56-ccccc98b242d>\u001b[0m in \u001b[0;36m<module>\u001b[1;34m\u001b[0m\n\u001b[0;32m      6\u001b[0m \u001b[1;33m\u001b[0m\u001b[0m\n\u001b[0;32m      7\u001b[0m \u001b[1;32mfor\u001b[0m \u001b[0mi\u001b[0m \u001b[1;32min\u001b[0m \u001b[0mrange\u001b[0m\u001b[1;33m(\u001b[0m\u001b[0mlen\u001b[0m\u001b[1;33m(\u001b[0m\u001b[0mparent1\u001b[0m\u001b[1;33m)\u001b[0m\u001b[1;33m)\u001b[0m\u001b[1;33m:\u001b[0m\u001b[1;33m\u001b[0m\u001b[1;33m\u001b[0m\u001b[0m\n\u001b[1;32m----> 8\u001b[1;33m     \u001b[1;32mif\u001b[0m \u001b[0mparent2\u001b[0m\u001b[1;33m[\u001b[0m\u001b[0mi\u001b[0m\u001b[1;33m]\u001b[0m \u001b[1;32mnot\u001b[0m \u001b[1;32min\u001b[0m \u001b[0mchild1\u001b[0m\u001b[1;33m:\u001b[0m\u001b[1;33m\u001b[0m\u001b[1;33m\u001b[0m\u001b[0m\n\u001b[0m\u001b[0;32m      9\u001b[0m         \u001b[0mchild1\u001b[0m\u001b[1;33m.\u001b[0m\u001b[0mappend\u001b[0m\u001b[1;33m(\u001b[0m\u001b[0mparent2\u001b[0m\u001b[1;33m[\u001b[0m\u001b[0mi\u001b[0m\u001b[1;33m]\u001b[0m\u001b[1;33m)\u001b[0m\u001b[1;33m\u001b[0m\u001b[1;33m\u001b[0m\u001b[0m\n\u001b[0;32m     10\u001b[0m \u001b[1;33m\u001b[0m\u001b[0m\n",
      "\u001b[1;31mIndexError\u001b[0m: list index out of range"
     ]
    }
   ],
   "source": [
    "# 杂交算子\n",
    "parent1,parent2 = population_cur[a],population_cur[b]\n",
    "\n",
    "a = random.randint(1, len(parent1) - 1)\n",
    "child1, child2 = parent1[:a], parent2[:a]\n",
    "\n",
    "for i in range(len(parent1)):\n",
    "    if parent2[i] not in child1:\n",
    "        child1.append(parent2[i])\n",
    "\n",
    "    if parent1[i] not in child2:\n",
    "        child2.append(parent1[i])\n"
   ]
  },
  {
   "cell_type": "code",
   "execution_count": 61,
   "id": "c957f3f4-0792-4a3e-a6ca-8ef00ab088a4",
   "metadata": {},
   "outputs": [
    {
     "data": {
      "text/plain": [
       "22"
      ]
     },
     "execution_count": 61,
     "metadata": {},
     "output_type": "execute_result"
    }
   ],
   "source": [
    "len(parent2)"
   ]
  },
  {
   "cell_type": "code",
   "execution_count": 59,
   "id": "a6e05490-8b7c-4d49-89ad-c36c28b8c79c",
   "metadata": {},
   "outputs": [
    {
     "ename": "IndexError",
     "evalue": "list index out of range",
     "output_type": "error",
     "traceback": [
      "\u001b[1;31m---------------------------------------------------------------------------\u001b[0m",
      "\u001b[1;31mIndexError\u001b[0m                                Traceback (most recent call last)",
      "\u001b[1;32m<ipython-input-59-01df81ff2c1c>\u001b[0m in \u001b[0;36m<module>\u001b[1;34m\u001b[0m\n\u001b[1;32m----> 1\u001b[1;33m \u001b[0mparent2\u001b[0m\u001b[1;33m[\u001b[0m\u001b[0mi\u001b[0m\u001b[1;33m]\u001b[0m\u001b[1;33m\u001b[0m\u001b[1;33m\u001b[0m\u001b[0m\n\u001b[0m",
      "\u001b[1;31mIndexError\u001b[0m: list index out of range"
     ]
    }
   ],
   "source": [
    "parent2[i]"
   ]
  },
  {
   "cell_type": "code",
   "execution_count": 46,
   "id": "d38bfaf4-f113-4b1c-bd49-ffe0fcd295d9",
   "metadata": {},
   "outputs": [
    {
     "data": {
      "text/plain": [
       "0"
      ]
     },
     "execution_count": 46,
     "metadata": {},
     "output_type": "execute_result"
    }
   ],
   "source": [
    "fitness_ratio_list.index(max(fitness_ratio_list))"
   ]
  },
  {
   "cell_type": "code",
   "execution_count": 43,
   "id": "26b82b7e-c2d5-480d-b046-1b60336b41f9",
   "metadata": {},
   "outputs": [
    {
     "data": {
      "text/plain": [
       "58420252.040353"
      ]
     },
     "execution_count": 43,
     "metadata": {},
     "output_type": "execute_result"
    }
   ],
   "source": [
    " max(fitness_ratio_list)"
   ]
  },
  {
   "cell_type": "code",
   "execution_count": 42,
   "id": "d09d94e7-f67b-4d33-a00b-f106191dc77c",
   "metadata": {},
   "outputs": [
    {
     "data": {
      "text/plain": [
       "[58420252.040353,\n",
       " 58322355.730151,\n",
       " 58127220.779836,\n",
       " 58086673.10988,\n",
       " 58035561.64017,\n",
       " 57827870.140154,\n",
       " 57692510.150364995,\n",
       " 57684288.980027996,\n",
       " 57300010.520074,\n",
       " 57222631.219826,\n",
       " 57199502.919846,\n",
       " 57133390.870331,\n",
       " 56132177.93970899,\n",
       " 55959080.94028199,\n",
       " 55904157.810217,\n",
       " 55602820.620225,\n",
       " 55306536.470243,\n",
       " 55141366.279873,\n",
       " 54864552.020245,\n",
       " 54110856.160257,\n",
       " 50729777.150291994,\n",
       " 47452882.24983401,\n",
       " 47080664.169792,\n",
       " 46775189.730161,\n",
       " 46651326.989820994,\n",
       " 46338964.369984,\n",
       " 44617702.379773,\n",
       " 44350220.939857006,\n",
       " 43357673.159820005,\n",
       " 41984722.349824995,\n",
       " 41698726.990319,\n",
       " 41273690.669986,\n",
       " 41164957.820152,\n",
       " 40687157.420216,\n",
       " 40517569.900218,\n",
       " 40270942.579984,\n",
       " 40091851.650240995,\n",
       " 40063687.600224,\n",
       " 38481860.209762,\n",
       " 38233248.100218,\n",
       " 33227530.480241,\n",
       " 33083608.160011,\n",
       " 32120179.900073,\n",
       " 32059878.509799,\n",
       " 31608996.780014,\n",
       " 31371253.839995004,\n",
       " 31286276.399864,\n",
       " 31274796.730077002,\n",
       " 31261772.180074,\n",
       " 31248522.200249]"
      ]
     },
     "execution_count": 42,
     "metadata": {},
     "output_type": "execute_result"
    }
   ],
   "source": [
    "fitness_ratio_list"
   ]
  },
  {
   "cell_type": "code",
   "execution_count": 27,
   "id": "74feb7e6-608f-4e97-a031-a737dfbda835",
   "metadata": {},
   "outputs": [
    {
     "data": {
      "text/plain": [
       "8.0"
      ]
     },
     "execution_count": 27,
     "metadata": {},
     "output_type": "execute_result"
    }
   ],
   "source": [
    "## 各供应商对应单量的折扣政策 暂时不添加订单折扣策略"
   ]
  }
 ],
 "metadata": {
  "kernelspec": {
   "display_name": "Python 3",
   "language": "python",
   "name": "python3"
  },
  "language_info": {
   "codemirror_mode": {
    "name": "ipython",
    "version": 3
   },
   "file_extension": ".py",
   "mimetype": "text/x-python",
   "name": "python",
   "nbconvert_exporter": "python",
   "pygments_lexer": "ipython3",
   "version": "3.8.8"
  }
 },
 "nbformat": 4,
 "nbformat_minor": 5
}
