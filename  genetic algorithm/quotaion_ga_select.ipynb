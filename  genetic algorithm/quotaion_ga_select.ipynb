{
 "cells": [
  {
   "cell_type": "markdown",
   "id": "542571e9-f308-4ab6-b884-e33b78bbac62",
   "metadata": {},
   "source": [
    "## ***构建报价选择算法并设置通用参数***"
   ]
  },
  {
   "cell_type": "markdown",
   "id": "1648b694-37f9-4a93-ade5-086708524495",
   "metadata": {
    "tags": []
   },
   "source": [
    "\n",
    "\n",
    "#### 1 按省份选择供应商\n",
    "##### 1.1 限制供应商数量输出结果\n",
    "           按照当前报价的结果\n",
    "           如何修改报价以及阶梯优惠获得更大收益"
   ]
  },
  {
   "cell_type": "code",
   "execution_count": 1,
   "id": "6b332157-bbcc-48d0-9ee2-64d0446f2295",
   "metadata": {},
   "outputs": [],
   "source": [
    "## 优化函数\n",
    "def select_sorted_population(fitness, population, length):\n",
    "    global population_size\n",
    "    sort_dict = {}\n",
    "    for i in range(len(population)):\n",
    "        sort_dict[(fitness[i], 1 / fitness[i])] = i\n",
    "\n",
    "    sorted_key = sorted(sort_dict.keys(), key=operator.itemgetter(0), reverse=True)\n",
    "\n",
    "    sorted_index = [sort_dict[i] for i in sorted_key]\n",
    "    sorted_population = [population[i] for i in sorted_index]\n",
    "\n",
    "    return sorted_population[:length]\n",
    "\n",
    "# 轮赌盘选择算子\n",
    "def selection(fitness, num):\n",
    "    def select_one(fitness, fitness_sum):\n",
    "        size = len(fitness)\n",
    "        i = random.randint(0, size - 1)\n",
    "        while True:\n",
    "            if random.random() < fitness[i] / fitness_sum:\n",
    "                return i\n",
    "            else:\n",
    "                i = (i + 1) % size\n",
    "\n",
    "    res = set()\n",
    "    fitness_sum = sum(fitness)\n",
    "    while len(res) < num:\n",
    "        t = select_one(fitness, fitness_sum)\n",
    "        res.add(t)\n",
    "    return res\n",
    "\n",
    "# 杂交算子\n",
    "def crossover(parent1, parent2):\n",
    "\n",
    "    a = random.randint(1, len(parent1) - 1)\n",
    "    parent2[:a], parent1[:a] = parent1[:a], parent2[:a]\n",
    "\n",
    "    return parent1, parent2\n",
    "\n",
    "\n",
    "def get_two(length):\n",
    "    b=a = random.randint(0,length-1)\n",
    "    while a==b:\n",
    "        b = random.randint(0,length-1)\n",
    "    if a>b:\n",
    "        return b,a\n",
    "    else: return a,b\n",
    "\n",
    "def mutaion_exchange(s):\n",
    "    # 自己手写的2变换\n",
    "    a, b = get_two(len(s))\n",
    "    for i in range(a, (a + b) // 2 + 1):\n",
    "        s[i], s[b + a - i] = s[b + a - i], s[i]\n",
    "\n",
    "    return s\n",
    "\n",
    "# 滑动变异\n",
    "def slide_mutation(s):\n",
    "    a, b = get_two(len(s))\n",
    "    t = s[a]\n",
    "    for i in range(a + 1, b + 1):\n",
    "        s[i - 1] = s[i]\n",
    "    s[b] = t\n",
    "    return s\n",
    "\n",
    "def get_fitness_one(p1,province_list):\n",
    "    chorme = dict(zip(province_list,p1))\n",
    "    fitness = 0\n",
    "    for i in top_express:\n",
    "         fitness+=  before_discount.filter((pl.col(\"express_code\")==i)&(pl.col(\"province\").is_in([k for k,v in chorme.items() if v == i]))).select(pl.col('cost').sum())[0,0]\n",
    "    return 1/fitness\n",
    "\n",
    "# SMB\n",
    "def select_best_mutaion(s, province_list):\n",
    "    s_res = [mutaion_exchange(s[:]), slide_mutation(s[:])]\n",
    "    res = [get_fitness_one(s_res[0], province_list), get_fitness_one(s_res[1], province_list)]\n",
    "\n",
    "    min_index = res.index(max(res))\n",
    "\n",
    "    return s_res[min_index]  "
   ]
  },
  {
   "cell_type": "code",
   "execution_count": 2,
   "id": "790193cf-cd00-49f6-b02f-21f52b397fff",
   "metadata": {},
   "outputs": [],
   "source": [
    "## 适应度计算函数\n",
    "def get_fitness(chromosome_list,province_list):\n",
    "        fitness_ratio_list = []\n",
    "        for chorme in chromosome_list:\n",
    "            chorme_1 = dict(zip(province_list,chorme))\n",
    "            fitness = 0\n",
    "            for i in top_express:\n",
    "                     fitness+=  before_discount.filter((pl.col(\"express_code\")==i)&(pl.col(\"province\").is_in([k for k,v in chorme_1.items() if v == i]))).select(pl.col('cost').sum())[0,0]\n",
    "            fitness_ratio_list.append(1/fitness)        \n",
    "        return fitness_ratio_list"
   ]
  },
  {
   "cell_type": "code",
   "execution_count": 3,
   "id": "c4e9e678-b48c-4358-8b7b-5e3ff2c3fa8c",
   "metadata": {},
   "outputs": [],
   "source": [
    "## 各供应商若承接各省份对应的折扣前cost\n",
    "import polars as pl\n",
    "import pandas as pd\n",
    "import random\n",
    "import itertools\n",
    "import operator\n",
    "df = pd.read_excel('quotation data/quotation simulation_v2.xlsx',sheet_name=None);\n",
    "sheet_name_list = list(df.keys())\n",
    "                       \n",
    "before_discount =  pl.read_excel('quotation data/quotation simulation_v2.xlsx',sheet_name=\"2022 zto_v2\")\n",
    "before_discount = before_discount[0:124,0:6].with_columns(pl.lit(\"2022 zto_v2\").alias('express'))\n",
    "\n",
    "for i in  range(1,len(sheet_name_list)):\n",
    "    before_discount_1 =  pl.read_excel('quotation data/quotation simulation_v2.xlsx',sheet_name=sheet_name_list[i])\n",
    "    before_discount_1 = before_discount_1[0:124,0:6].with_columns(pl.lit(sheet_name_list[i]).alias('express'))\n",
    "    before_discount = pl.concat([before_discount,before_discount_1],how = 'vertical')\n",
    "\n",
    "## 将对应供应商名称编码话\n",
    "dict_express =dict(zip(list(before_discount.select(pl.col(\"express\").unique().list())[0,0]),[chr(i) for i in range(ord('a'),ord('h')+1)]))\n",
    "dict_express\n",
    "before_discount = before_discount.with_column(pl.col(\"express\").apply(lambda x:dict_express.get(x)).alias(\"express_code\"))"
   ]
  },
  {
   "cell_type": "code",
   "execution_count": 4,
   "id": "25f2930d-04fb-41b0-8d33-6ad03be64efd",
   "metadata": {
    "tags": []
   },
   "outputs": [],
   "source": [
    "## 限制供应商的选择数量生产组合\n",
    " ##以限制三家供应商的情况\n",
    "## 首先选择三家总价模拟最低的供应商，贪心优化\n",
    "import random\n",
    "top_express = before_discount.groupby(\"express_code\").agg(pl.col(\"cost\").sum()).sort(\"cost\").head(3).select(pl.col(\"express_code\")).to_numpy().tolist()\n",
    "from itertools import chain\n",
    "top_express = list(chain.from_iterable(top_express))\n",
    "province_list = list(chain.from_iterable(before_discount.select(pl.col(\"province\").unique()).to_numpy().tolist()))\n",
    "chromosome_list = []\n",
    "population_size = 50\n",
    "for i in range(population_size):\n",
    "    chromosome_list.append([random.sample(top_express,1)[0] for _ in range(0,int((before_discount.select(pl.col(\"province\").unique().count()).to_numpy()+1)[0]))])\n"
   ]
  },
  {
   "cell_type": "code",
   "execution_count": 5,
   "id": "fc507268-e124-41d1-9131-e2dba0ddd1ef",
   "metadata": {
    "tags": []
   },
   "outputs": [
    {
     "name": "stdout",
     "output_type": "stream",
     "text": [
      "100\n",
      "200\n",
      "300\n",
      "400\n"
     ]
    }
   ],
   "source": [
    "import numpy as np\n",
    "import operator\n",
    "from matplotlib import pyplot as plt\n",
    "import seaborn as sns\n",
    "## 循环优化\n",
    "fitness_ratio_list = get_fitness(chromosome_list,province_list)\n",
    "fitness_ratio_add = list(itertools.accumulate(fitness_ratio_list))\n",
    "fitness_ratio_add = [x/sum(fitness_ratio_list) for x in fitness_ratio_add ]\n",
    "import itertools\n",
    "best_result = []\n",
    "best_fitness = []\n",
    "generation = 500\n",
    "picture = [0.001,0.005,0.01,0.02,0.05,0.08,0.1,0.2,0.3,0.5,0.8,1]\n",
    "picture_new = [i * generation for i in picture]\n",
    "population_cur = chromosome_list\n",
    "p_mutation = 0.02\n",
    "d = 0\n",
    "\n",
    "for t in range(0,generation,1):\n",
    "    if t and t % 100 == 0:\n",
    "        print(t)\n",
    "    ## 选出比较好的前1/4样本\n",
    "    population_next = select_sorted_population(fitness_ratio_list,population_cur,len(chromosome_list)//4)\n",
    "    for i in range(population_size):\n",
    "        a,b = selection(fitness_ratio_list,2)\n",
    "        child1,child2 = crossover(population_cur[a],population_cur[b])\n",
    "            # 变异\n",
    "        if random.random() < p_mutation:\n",
    "                child1 = select_best_mutaion(child1,province_list)\n",
    "        if random.random() < p_mutation:\n",
    "                child2 = select_best_mutaion(child2,province_list)      \n",
    "        population_next.append(child1)\n",
    "        population_next.append(child2)\n",
    "\n",
    "        # 选出下一代的种群\n",
    "    fitness_ratio_list = get_fitness(population_next,province_list)\n",
    "    population_next = select_sorted_population(fitness_ratio_list, population_next, population_size)\n",
    "    population_cur = population_next\n",
    "    fitness_ratio_list = get_fitness(population_cur,province_list)\n",
    "    fitness_ratio_add = list(itertools.accumulate(fitness_ratio_list))\n",
    "    fitness_ratio_add = [x/sum(fitness_ratio_list) for x in fitness_ratio_add ]\n",
    "    best_result.append(population_cur[int(fitness_ratio_list.index(max(fitness_ratio_list)))])\n",
    "    best_fitness.append(max(fitness_ratio_list))\n"
   ]
  },
  {
   "cell_type": "code",
   "execution_count": 6,
   "id": "0e518172-11d1-4500-8b62-e2a2f6ae5154",
   "metadata": {},
   "outputs": [
    {
     "data": {
      "image/png": "[encoded data removed]",
      "text/plain": [
       "<Figure size 936x360 with 1 Axes>"
      ]
     },
     "metadata": {
      "needs_background": "light"
     },
     "output_type": "display_data"
    }
   ],
   "source": [
    "\n",
    "best_cost = round(1/get_fitness_one(best_result[best_fitness.index(max(best_fitness))],province_list),0)\n",
    "x = [i for i in range(generation)]\n",
    "fig1 = plt.figure('figure', figsize=(13, 5)).add_subplot(121)\n",
    "fig1.plot(x, best_fitness)\n",
    "fig1.set_title(\"best_cost:\"+ str(format(best_cost,',')))\n",
    "plt.show()"
   ]
  },
  {
   "cell_type": "code",
   "execution_count": 9,
   "id": "d9157510-feb1-4a8b-ba82-595fb4c87d90",
   "metadata": {
    "collapsed": true,
    "jupyter": {
     "outputs_hidden": true
    },
    "tags": []
   },
   "outputs": [
    {
     "data": {
      "text/plain": [
       "['d',\n",
       " 'g',\n",
       " 'g',\n",
       " 'd',\n",
       " 'd',\n",
       " 'd',\n",
       " 'f',\n",
       " 'f',\n",
       " 'f',\n",
       " 'f',\n",
       " 'f',\n",
       " 'f',\n",
       " 'g',\n",
       " 'f',\n",
       " 'f',\n",
       " 'f',\n",
       " 'f',\n",
       " 'f',\n",
       " 'f',\n",
       " 'f',\n",
       " 'f',\n",
       " 'f',\n",
       " 'f',\n",
       " 'f',\n",
       " 'g',\n",
       " 'd',\n",
       " 'g',\n",
       " 'f',\n",
       " 'f',\n",
       " 'g',\n",
       " 'f',\n",
       " 'g']"
      ]
     },
     "execution_count": 9,
     "metadata": {},
     "output_type": "execute_result"
    }
   ],
   "source": [
    "best_result[best_fitness.index(max(best_fitness))]"
   ]
  },
  {
   "cell_type": "code",
   "execution_count": 14,
   "id": "105d1279-303a-418d-b3d0-a9380fc7d63d",
   "metadata": {},
   "outputs": [
    {
     "data": {
      "text/plain": [
       "{'河北': 'd',\n",
       " '天津': 'g',\n",
       " '湖北': 'g',\n",
       " '贵州': 'd',\n",
       " '西藏': 'd',\n",
       " '内蒙古': 'd',\n",
       " '吉林': 'f',\n",
       " '新疆': 'f',\n",
       " '海南': 'f',\n",
       " '江西': 'f',\n",
       " '浙江': 'f',\n",
       " '江苏': 'f',\n",
       " '四川': 'g',\n",
       " '辽宁': 'f',\n",
       " '广西': 'f',\n",
       " '山东': 'f',\n",
       " '湖南': 'f',\n",
       " '甘肃': 'f',\n",
       " '陕西': 'f',\n",
       " '广东': 'f',\n",
       " '云南': 'f',\n",
       " '重庆': 'f',\n",
       " '上海': 'f',\n",
       " '安徽': 'f',\n",
       " '河南': 'g',\n",
       " '福建': 'd',\n",
       " '山西': 'g',\n",
       " '北京': 'f',\n",
       " '黑龙江': 'f',\n",
       " '青海': 'g',\n",
       " '宁夏': 'f'}"
      ]
     },
     "execution_count": 14,
     "metadata": {},
     "output_type": "execute_result"
    }
   ],
   "source": [
    "dict(zip(province_list,best_result[best_fitness.index(max(best_fitness))]))"
   ]
  },
  {
   "cell_type": "code",
   "execution_count": 29,
   "id": "7818851e-e2d7-4585-b207-a76303b727d8",
   "metadata": {},
   "outputs": [
    {
     "data": {
      "text/html": [
       "<div>\n",
       "<style scoped>\n",
       "    .dataframe tbody tr th:only-of-type {\n",
       "        vertical-align: middle;\n",
       "    }\n",
       "\n",
       "    .dataframe tbody tr th {\n",
       "        vertical-align: top;\n",
       "    }\n",
       "\n",
       "    .dataframe thead th {\n",
       "        text-align: right;\n",
       "    }\n",
       "\n",
       "    .dataframe td {\n",
       "        white-space: pre;\n",
       "    }\n",
       "\n",
       "    .dataframe td {\n",
       "        padding-top: 0;\n",
       "    }\n",
       "\n",
       "    .dataframe td {\n",
       "        padding-bottom: 0;\n",
       "    }\n",
       "\n",
       "    .dataframe td {\n",
       "        line-height: 95%;\n",
       "    }\n",
       "</style>\n",
       "<table border=\"1\" class=\"dataframe\">\n",
       "<small>shape: (3, 2)</small>\n",
       "<thead>\n",
       "<tr>\n",
       "<th>\n",
       "express_code\n",
       "</th>\n",
       "<th>\n",
       "cost\n",
       "</th>\n",
       "</tr>\n",
       "<tr>\n",
       "<td>\n",
       "str\n",
       "</td>\n",
       "<td>\n",
       "f64\n",
       "</td>\n",
       "</tr>\n",
       "</thead>\n",
       "<tbody>\n",
       "<tr>\n",
       "<td>\n",
       "&quot;h&quot;\n",
       "</td>\n",
       "<td>\n",
       "5.2928e7\n",
       "</td>\n",
       "</tr>\n",
       "<tr>\n",
       "<td>\n",
       "&quot;c&quot;\n",
       "</td>\n",
       "<td>\n",
       "5.5898e7\n",
       "</td>\n",
       "</tr>\n",
       "<tr>\n",
       "<td>\n",
       "&quot;a&quot;\n",
       "</td>\n",
       "<td>\n",
       "6.0030e7\n",
       "</td>\n",
       "</tr>\n",
       "</tbody>\n",
       "</table>\n",
       "</div>"
      ],
      "text/plain": [
       "shape: (3, 2)\n",
       "┌──────────────┬──────────┐\n",
       "│ express_code ┆ cost     │\n",
       "│ ---          ┆ ---      │\n",
       "│ str          ┆ f64      │\n",
       "╞══════════════╪══════════╡\n",
       "│ h            ┆ 5.2928e7 │\n",
       "│ c            ┆ 5.5898e7 │\n",
       "│ a            ┆ 6.0030e7 │\n",
       "└──────────────┴──────────┘"
      ]
     },
     "execution_count": 29,
     "metadata": {},
     "output_type": "execute_result"
    }
   ],
   "source": [
    "before_discount.groupby(\"express_code\").agg(pl.col(\"cost\").sum()).sort(\"cost\").head(3)"
   ]
  },
  {
   "cell_type": "markdown",
   "id": "6e5e953f-7e09-4e50-b465-4b0f0e03b9ca",
   "metadata": {
    "jp-MarkdownHeadingCollapsed": true,
    "tags": []
   },
   "source": [
    "#### 2 按平台选择供应商"
   ]
  },
  {
   "cell_type": "code",
   "execution_count": null,
   "id": "8b1f6726-d2f3-4722-8f97-01ebb38cdf89",
   "metadata": {},
   "outputs": [],
   "source": []
  }
 ],
 "metadata": {
  "kernelspec": {
   "display_name": "Python 3 (ipykernel)",
   "language": "python",
   "name": "python3"
  },
  "language_info": {
   "codemirror_mode": {
    "name": "ipython",
    "version": 3
   },
   "file_extension": ".py",
   "mimetype": "text/x-python",
   "name": "python",
   "nbconvert_exporter": "python",
   "pygments_lexer": "ipython3",
   "version": "3.9.12"
  }
 },
 "nbformat": 4,
 "nbformat_minor": 5
}
